{
 "cells": [
  {
   "cell_type": "markdown",
   "metadata": {},
   "source": [
    "# Demo"
   ]
  },
  {
   "cell_type": "code",
   "execution_count": 7,
   "metadata": {},
   "outputs": [
    {
     "name": "stdout",
     "output_type": "stream",
     "text": [
      "No birds\n"
     ]
    }
   ],
   "source": [
    "import django_init\n",
    "\n",
    "from birds.models import Bird\n",
    "\n",
    "\n",
    "# Use the Django ORM\n",
    "birds = Bird.objects.all()\n",
    "for bird in birds:\n",
    "    print(bird.name)\n",
    "\n",
    "if not birds:\n",
    "    print(\"No birds\")"
   ]
  },
  {
   "cell_type": "code",
   "execution_count": 8,
   "metadata": {},
   "outputs": [],
   "source": [
    "# Create some birds\n",
    "bird_names = [\"Goldfinch\", \"Bluetit\", \"Kingfisher\", \"Sparrow\", \"Hawk\"]\n",
    "for bird_name in bird_names:\n",
    "    Bird.objects.create(name=bird_name)"
   ]
  },
  {
   "cell_type": "markdown",
   "metadata": {},
   "source": [
    "Now we have some birds in the database, run the same query and see what's printed."
   ]
  },
  {
   "cell_type": "code",
   "execution_count": 9,
   "metadata": {},
   "outputs": [
    {
     "name": "stdout",
     "output_type": "stream",
     "text": [
      "Goldfinch\n",
      "Bluetit\n",
      "Kingfisher\n",
      "Sparrow\n",
      "Hawk\n"
     ]
    },
    {
     "data": {
      "text/plain": [
       "(5, {'birds.Bird': 5})"
      ]
     },
     "execution_count": 9,
     "metadata": {},
     "output_type": "execute_result"
    }
   ],
   "source": [
    "for bird in Bird.objects.all():\n",
    "    print(bird.name)\n",
    "\n",
    "# Clean up\n",
    "Bird.objects.all().delete()"
   ]
  }
 ],
 "metadata": {
  "kernelspec": {
   "display_name": "Python 3 (ipykernel)",
   "language": "python",
   "name": "python3"
  },
  "language_info": {
   "codemirror_mode": {
    "name": "ipython",
    "version": 3
   },
   "file_extension": ".py",
   "mimetype": "text/x-python",
   "name": "python",
   "nbconvert_exporter": "python",
   "pygments_lexer": "ipython3",
   "version": "3.11.2"
  }
 },
 "nbformat": 4,
 "nbformat_minor": 4
}
